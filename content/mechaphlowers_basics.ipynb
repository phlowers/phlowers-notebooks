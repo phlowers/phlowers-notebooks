{
  "cells": [
    {
      "cell_type": "code",
      "execution_count": null,
      "id": "298ec899-218c-4a7c-a8c7-69a32f612827",
      "metadata": {
        "trusted": true
      },
      "outputs": [],
      "source": [
        "print(\"Checking the kernel is working\")"
      ]
    },
    {
      "attachments": {},
      "cell_type": "markdown",
      "id": "5041ac02-0ac6-4f0c-b253-aab50925d9a7",
      "metadata": {},
      "source": [
        "# Mechaphlowers : basics"
      ]
    },
    {
      "cell_type": "markdown",
      "id": "b356bd39-73b1-4c0e-931d-cac6935401c7",
      "metadata": {},
      "source": [
        "## Installation "
      ]
    },
    {
      "cell_type": "markdown",
      "id": "591eb262",
      "metadata": {},
      "source": [
        "### On jupyter server"
      ]
    },
    {
      "cell_type": "code",
      "execution_count": null,
      "id": "01b95082",
      "metadata": {},
      "outputs": [],
      "source": [
        "# %pip install mechaphlowers nbformat # uncomment if interested\n",
        "# import mechaphlowers as mph\n",
        "# mph.__version__"
      ]
    },
    {
      "cell_type": "markdown",
      "id": "c6f629e6",
      "metadata": {},
      "source": [
        "### On jupyterlite (pyodide)"
      ]
    },
    {
      "cell_type": "code",
      "execution_count": null,
      "id": "7186d081-f6a6-4a44-8620-b68205c47aef",
      "metadata": {
        "trusted": true
      },
      "outputs": [],
      "source": [
        "import micropip\n",
        "await micropip.install([\"mechaphlowers\",\"nbformat\"])\n",
        "import mechaphlowers as mph\n",
        "mph.__version__"
      ]
    },
    {
      "cell_type": "markdown",
      "id": "0e5ee20c-f349-4dba-a2f3-803d0fd98cf3",
      "metadata": {},
      "source": [
        "## 1. Add a power line section and display it "
      ]
    },
    {
      "cell_type": "code",
      "execution_count": null,
      "id": "813ddd65-cd9e-423f-b367-90ddf8fd3f1d",
      "metadata": {
        "trusted": true
      },
      "outputs": [],
      "source": [
        "import numpy as np\n",
        "import pandas as pd\n",
        "import plotly.graph_objects as go\n",
        "\n",
        "from mechaphlowers import SectionDataFrame\n",
        "from mechaphlowers.entities.arrays import SectionArray\n"
      ]
    },
    {
      "cell_type": "code",
      "execution_count": null,
      "id": "13700096-6f0a-4af4-b985-bb5382499a80",
      "metadata": {
        "trusted": true
      },
      "outputs": [],
      "source": [
        "# load data \n",
        "data = {\n",
        "    \"name\": [\"1\", \"2\", \"three\", \"support 4\"],\n",
        "    \"suspension\": [False, True, True, False],\n",
        "    \"conductor_attachment_altitude\": [50.0, 40.0, 20.0, 10.0],\n",
        "    \"crossarm_length\": [5.0,]* 4,\n",
        "    \"line_angle\": [0.]* 4,\n",
        "    \"insulator_length\": [0, 4, 3.2, 0],\n",
        "    \"span_length\": [100, 200, 300, np.nan],\n",
        "}\n",
        "\n",
        "section = SectionArray(data=pd.DataFrame(data))\n",
        "\n",
        "# set sagging parameter and temperatur \n",
        "section.sagging_parameter = 500\n",
        "section.sagging_temperature = 15\n",
        "\n",
        "# Provide section to SectionDataFrame\n",
        "frame = SectionDataFrame(section)\n",
        "\n",
        "# Display figure\n",
        "fig = go.Figure()\n",
        "frame.plot.line3d(fig)\n",
        "fig.show()"
      ]
    },
    {
      "cell_type": "markdown",
      "id": "7618bbc2-aa61-45cd-ad8b-336ef976a5e6",
      "metadata": {},
      "source": [
        "📌 As the line can be difficult to visualize due to its linear nature, here are two possibilities for better visualization:\n",
        "- Select a part of the line"
      ]
    },
    {
      "cell_type": "code",
      "execution_count": null,
      "id": "8930759c-eaa9-409c-89fe-3316894015ce",
      "metadata": {
        "trusted": true
      },
      "outputs": [],
      "source": [
        "fig._data = []\n",
        "frame.select(between=[\"three\", \"support 4\"]).plot.line3d(fig)\n",
        "fig.show()"
      ]
    },
    {
      "cell_type": "markdown",
      "id": "7b36c26b-044d-4821-b77c-ac91c6135806",
      "metadata": {
        "trusted": true
      },
      "source": [
        "- Use a preset layout to have a more compact view with view sets to analysis. Please note that this presetting does not respect proportions."
      ]
    },
    {
      "cell_type": "code",
      "execution_count": null,
      "id": "e48becc1-dc2e-4892-bf75-298e3a1f19b9",
      "metadata": {
        "trusted": true
      },
      "outputs": [],
      "source": [
        "fig._data = []\n",
        "frame.plot.line3d(fig, view=\"analysis\")\n",
        "fig.show()"
      ]
    },
    {
      "cell_type": "markdown",
      "id": "4fb57013-ef5f-45b8-aeb3-e3b36796ef37",
      "metadata": {},
      "source": [
        "## Issues for displaying plots ? \n",
        "\n",
        "📌 It can be tricky to set the good parameters to move the 3D graph as desired. We want here to help in providing some ready-to-use code."
      ]
    },
    {
      "cell_type": "markdown",
      "id": "ac96efc8",
      "metadata": {},
      "source": [
        "- Set the window size for the graph with height and width parameters"
      ]
    },
    {
      "cell_type": "code",
      "execution_count": null,
      "id": "9dc08c92-b22c-4d47-a107-8115f00adcb1",
      "metadata": {
        "trusted": true
      },
      "outputs": [],
      "source": [
        "fig.update_layout(autosize=False, height=600, width=1000)"
      ]
    },
    {
      "cell_type": "markdown",
      "id": "421c4afc-a76d-488b-9a51-a1946b075c51",
      "metadata": {},
      "source": [
        "- inverse view"
      ]
    },
    {
      "cell_type": "code",
      "execution_count": null,
      "id": "a6459759-7d70-4fdd-9061-5fc25d8f4503",
      "metadata": {
        "trusted": true
      },
      "outputs": [],
      "source": [
        "fig.update_layout(\n",
        "    autosize=False, height=800, width=1000, \n",
        "    scene_camera=dict(\n",
        "        eye=dict(x=0, y=1, z=0)\n",
        "))"
      ]
    },
    {
      "cell_type": "markdown",
      "id": "7307b5f8-3398-4817-8930-61bf5606932c",
      "metadata": {},
      "source": [
        "- Set profil view"
      ]
    },
    {
      "cell_type": "code",
      "execution_count": null,
      "id": "245450bf-cfa4-4c94-b844-f222435b4834",
      "metadata": {
        "trusted": true
      },
      "outputs": [],
      "source": [
        "fig.update_layout(\n",
        "    autosize=False, height=800, width=1000, \n",
        "    scene_camera=dict(\n",
        "        eye=dict(x=.9, y=-0, z=-0.1)\n",
        "))"
      ]
    },
    {
      "cell_type": "markdown",
      "id": "9a29949b-bd90-46de-a46d-2f176f14daad",
      "metadata": {},
      "source": [
        "- Set view from above"
      ]
    },
    {
      "cell_type": "code",
      "execution_count": null,
      "id": "7e95effb-5e67-40fa-b8bd-e23be1fd65ea",
      "metadata": {
        "trusted": true
      },
      "outputs": [],
      "source": [
        "fig.update_layout(\n",
        "    autosize=False, height=800, width=1500, \n",
        "    scene_camera=dict(\n",
        "        eye=dict(x=0, y=.1, z=1)\n",
        "))"
      ]
    },
    {
      "cell_type": "markdown",
      "id": "e5bbb9ab-9e16-4a11-96c2-2e876f7009d8",
      "metadata": {},
      "source": [
        "## 2. Add a cable to the section and compute some parameters"
      ]
    },
    {
      "cell_type": "code",
      "execution_count": null,
      "id": "a704ddda-f23b-4d19-acaa-a5bcb2863489",
      "metadata": {
        "trusted": true
      },
      "outputs": [],
      "source": [
        "from mechaphlowers.entities.arrays import CableArray"
      ]
    },
    {
      "cell_type": "code",
      "execution_count": null,
      "id": "1e042baa-8e09-4286-a77e-ebd9a1c2c487",
      "metadata": {
        "trusted": true
      },
      "outputs": [],
      "source": [
        "cable_data = pd.DataFrame(\n",
        "\t\t{\n",
        "\t\t\t\"section\": [345.55],\n",
        "\t\t\t\"diameter\": [22.4],\n",
        "\t\t\t\"linear_weight\": [9.55494],\n",
        "\t\t\t\"young_modulus\": [59],\n",
        "\t\t\t\"dilatation_coefficient\": [23],\n",
        "\t\t\t\"temperature_reference\": [0],\n",
        "\t\t}\n",
        "\t)\n",
        "cable_array = CableArray(cable_data.loc[cable_data.index.repeat(4)].reset_index(drop=True))\n",
        "cable_array.data"
      ]
    },
    {
      "cell_type": "code",
      "execution_count": null,
      "id": "c723b47b-8455-47fa-b0ee-c80768e28b32",
      "metadata": {
        "trusted": true
      },
      "outputs": [],
      "source": [
        "frame.add_cable(cable_array)\n",
        "frame.data"
      ]
    },
    {
      "cell_type": "code",
      "execution_count": null,
      "id": "d803cf33-351d-4748-b678-29dbab00b603",
      "metadata": {
        "trusted": true
      },
      "outputs": [],
      "source": [
        "display(\"Length\", frame.span.L(),\n",
        "\"Unstressed cable length at 20°\", frame.state.L_ref(20),\n",
        "\"Unstressed cable length at -30°\", frame.state.L_ref(-30),)"
      ]
    },
    {
      "cell_type": "markdown",
      "id": "748eeaa9-315d-4ae7-ba9b-21d65ea4fa36",
      "metadata": {},
      "source": [
        "## 3. Add weather conditions span by span and compute associated loads"
      ]
    },
    {
      "cell_type": "code",
      "execution_count": null,
      "id": "29f414c0-f300-476d-95a8-c32a7ca369df",
      "metadata": {
        "trusted": true
      },
      "outputs": [],
      "source": [
        "from mechaphlowers.entities.arrays import WeatherArray\n",
        "\n",
        "weather = WeatherArray(\n",
        "\tpd.DataFrame(\n",
        "\t\t{\n",
        "\t\t\t\"ice_thickness\": [1, 2.1, 0.0, 5.4],\n",
        "\t\t\t\"wind_pressure\": [40.12, 0.0, 12.0, 53.0],\n",
        "\t\t}\n",
        "\t)\n",
        ")\n",
        "frame.add_weather(weather=weather)\n",
        "frame.data"
      ]
    },
    {
      "cell_type": "code",
      "execution_count": null,
      "id": "3ee2786f-7d2a-4015-9810-42b7f6c3d549",
      "metadata": {
        "scrolled": true,
        "trusted": true
      },
      "outputs": [],
      "source": [
        "display(\n",
        "    \"Loads due to wind\", frame.cable_loads.wind_load,\n",
        "    \"Loads due to ice\", frame.cable_loads.ice_load,\n",
        ")"
      ]
    },
    {
      "cell_type": "markdown",
      "id": "e0b68a9b-8ba9-4c94-ae46-81a60d02a795",
      "metadata": {},
      "source": [
        "## 4. Plot line section with external loads\n",
        "\n",
        "📌 For the moment maximum wind is applied on each span"
      ]
    },
    {
      "cell_type": "code",
      "execution_count": null,
      "id": "b8eec5c5-87c5-4d10-ab2f-140982eec4ea",
      "metadata": {
        "trusted": true
      },
      "outputs": [],
      "source": [
        "fig = go.Figure()\n",
        "frame.plot.line3d(fig, view=\"analysis\")\n",
        "fig.update_layout(\n",
        "    autosize=False, height=800, width=1000, \n",
        "    scene_camera=dict(\n",
        "        eye=dict(x=.9, y=.1, z=-0.1)\n",
        "))"
      ]
    },
    {
      "cell_type": "markdown",
      "id": "a77db718-0fad-41ff-b136-78b1f0715e00",
      "metadata": {},
      "source": [
        "🤩 Array and frame objects are dynamically linked together. Let's try to push the cable a little more !"
      ]
    },
    {
      "cell_type": "code",
      "execution_count": null,
      "id": "a4c68733-a933-4419-a280-b11dfbffb622",
      "metadata": {
        "trusted": true
      },
      "outputs": [],
      "source": [
        "weather._data.loc[0, \"wind_pressure\"] = np.float64(10000.)\n",
        "weather.data"
      ]
    },
    {
      "cell_type": "code",
      "execution_count": null,
      "id": "5aea130a-3737-462e-a890-a82ebc72afad",
      "metadata": {
        "scrolled": true,
        "trusted": true
      },
      "outputs": [],
      "source": [
        "fig._data = []\n",
        "frame.plot.line3d(fig,view=\"analysis\")\n",
        "fig.update_layout(\n",
        "    autosize=False, height=800, width=1500, \n",
        "    scene_camera=dict(\n",
        "        eye=dict(x=.9, y=.1, z=-0.1)\n",
        "))"
      ]
    }
  ],
  "metadata": {
    "kernelspec": {
      "display_name": ".venv_test",
      "language": "python",
      "name": "python3"
    },
    "language_info": {
      "codemirror_mode": {
        "name": "ipython",
        "version": 3
      },
      "file_extension": ".py",
      "mimetype": "text/x-python",
      "name": "python",
      "nbconvert_exporter": "python",
      "pygments_lexer": "ipython3",
      "version": "3.11.8"
    }
  },
  "nbformat": 4,
  "nbformat_minor": 5
}
